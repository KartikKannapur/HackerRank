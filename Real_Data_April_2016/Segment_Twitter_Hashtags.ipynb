{
 "cells": [
  {
   "cell_type": "markdown",
   "metadata": {},
   "source": [
    "Given a set of Twitter hashtags, split each hashtag into its constituent words. For example:\n",
    "\n",
    "wearethepeoplewearethepeople is split into we are the peoplewe are the people\n",
    "mentionyourfavesmentionyourfaves is split into mention your favesmention your faves\n",
    "Input Format\n",
    "\n",
    "The first line contains an integer, NN, denoting a number of hashtags. \n",
    "Each of the NN subsequent lines contains a single hashtag.\n",
    "\n",
    "Dictionaries and Corpuses of Text\n",
    "\n",
    "We don't strictly prescribe a particular dictionary or corpus or a set of features. To get started, you may find it useful to embed this list of 5000 common words as a dictionary in your program. For more effective segmentation models, you are encouraged to use your own word list, or corpus, or features extracted from a corpus, as required by whatever model you choose. Project Gutenberg is a good starting point, but keep in mind that language and its usage has evolved and transformed over time.\n",
    "\n",
    "You may use serialization to build and compress your model offline and to decompress and use it from your program. If you end up with a corpus or model that is too large, you may compress and serialize it, then deserialize it from within your code using zlib (that is in Python) or another tool. This means that your code will contain a compressed string representing the dictionary which will then be de-compressed and used. You can take a look at this code submitted during CodeSprint5 here. For Java users, you might want to look up java.util.zip.GZIPInputStream for this purpose.\n",
    "\n",
    "Constraints\n",
    "\n",
    "5≤N≤505≤N≤50\n",
    "The hashtags will not contain named entities, other than the names of countries and their abbreviations (e.g.: US, UK, UAE, etc.).}\n",
    "The hashtags may occasionally contain slang phrases, such as \"faves\" (a slang abbreviation for \"favorites\")."
   ]
  },
  {
   "cell_type": "code",
   "execution_count": 1,
   "metadata": {
    "collapsed": true
   },
   "outputs": [],
   "source": [
    "# #Corpus of English Words\n",
    "import nltk\n",
    "from nltk.corpus import words\n",
    "from nltk.corpus import wordnet"
   ]
  },
  {
   "cell_type": "code",
   "execution_count": 2,
   "metadata": {
    "collapsed": false
   },
   "outputs": [
    {
     "data": {
      "text/plain": [
       "236736"
      ]
     },
     "execution_count": 2,
     "metadata": {},
     "output_type": "execute_result"
    }
   ],
   "source": [
    "len(words.words())"
   ]
  },
  {
   "cell_type": "code",
   "execution_count": null,
   "metadata": {
    "collapsed": false
   },
   "outputs": [],
   "source": []
  },
  {
   "cell_type": "code",
   "execution_count": 3,
   "metadata": {
    "collapsed": true
   },
   "outputs": [],
   "source": [
    "def FindWord(token, wordlist):\n",
    "    i = len(token) + 1\n",
    "    while i > 1:\n",
    "        i -= 1\n",
    "        if token[:i] in wordlist:\n",
    "            return token[:i]\n",
    "    return None "
   ]
  },
  {
   "cell_type": "code",
   "execution_count": 4,
   "metadata": {
    "collapsed": false
   },
   "outputs": [
    {
     "data": {
      "text/plain": [
       "'hello'"
      ]
     },
     "execution_count": 4,
     "metadata": {},
     "output_type": "execute_result"
    }
   ],
   "source": [
    "FindWord(\"helloworld\", words.words())"
   ]
  },
  {
   "cell_type": "code",
   "execution_count": 5,
   "metadata": {
    "collapsed": false
   },
   "outputs": [
    {
     "data": {
      "text/plain": [
       "'world'"
      ]
     },
     "execution_count": 5,
     "metadata": {},
     "output_type": "execute_result"
    }
   ],
   "source": [
    "\"\".join(\"helloworld\".rsplit(\"hello\"))"
   ]
  },
  {
   "cell_type": "code",
   "execution_count": 6,
   "metadata": {
    "collapsed": false
   },
   "outputs": [
    {
     "data": {
      "text/plain": [
       "'world'"
      ]
     },
     "execution_count": 6,
     "metadata": {},
     "output_type": "execute_result"
    }
   ],
   "source": [
    "FindWord('world', words.words())"
   ]
  },
  {
   "cell_type": "code",
   "execution_count": 7,
   "metadata": {
    "collapsed": false
   },
   "outputs": [
    {
     "data": {
      "text/plain": [
       "''"
      ]
     },
     "execution_count": 7,
     "metadata": {},
     "output_type": "execute_result"
    }
   ],
   "source": [
    "\"\".join(\"world\".rsplit(\"world\"))"
   ]
  },
  {
   "cell_type": "code",
   "execution_count": 8,
   "metadata": {
    "collapsed": false
   },
   "outputs": [
    {
     "name": "stdout",
     "output_type": "stream",
     "text": [
      "hello\n",
      "world\n"
     ]
    }
   ],
   "source": [
    "in_word = \"helloworld\"\n",
    "out_word = FindWord(in_word, words.words())\n",
    "print out_word\n",
    "\n",
    "temp_word = \"\".join(in_word.rsplit(out_word))\n",
    "out_word = FindWord(temp_word, words.words())\n",
    "print out_word\n",
    "\n"
   ]
  },
  {
   "cell_type": "code",
   "execution_count": 9,
   "metadata": {
    "collapsed": false
   },
   "outputs": [
    {
     "name": "stdout",
     "output_type": "stream",
     "text": [
      "wear\n",
      "e\n",
      "th\n",
      "pop\n",
      "l\n",
      "None\n"
     ]
    }
   ],
   "source": [
    "temp_word = \"wearethepeople\"\n",
    "out_word = \"\"\n",
    "\n",
    "arr_output = []\n",
    "while out_word != temp_word:\n",
    "    out_word = FindWord(temp_word, words.words())\n",
    "    print out_word\n",
    "    arr_output.append(out_word)\n",
    "    temp_word = \"\".join(temp_word.rsplit(out_word))\n",
    "    if out_word == None:\n",
    "        break\n",
    "\n"
   ]
  },
  {
   "cell_type": "code",
   "execution_count": 10,
   "metadata": {
    "collapsed": false
   },
   "outputs": [
    {
     "data": {
      "text/plain": [
       "['wear', 'e', 'th', 'pop', 'l']"
      ]
     },
     "execution_count": 10,
     "metadata": {},
     "output_type": "execute_result"
    }
   ],
   "source": [
    "arr_output[:-1]"
   ]
  },
  {
   "cell_type": "code",
   "execution_count": 11,
   "metadata": {
    "collapsed": false
   },
   "outputs": [
    {
     "data": {
      "text/plain": [
       "[u'A',\n",
       " u'a',\n",
       " u'aa',\n",
       " u'aal',\n",
       " u'aalii',\n",
       " u'aam',\n",
       " u'Aani',\n",
       " u'aardvark',\n",
       " u'aardwolf',\n",
       " u'Aaron',\n",
       " u'Aaronic',\n",
       " u'Aaronical',\n",
       " u'Aaronite',\n",
       " u'Aaronitic',\n",
       " u'Aaru',\n",
       " u'Ab',\n",
       " u'aba',\n",
       " u'Ababdeh',\n",
       " u'Ababua',\n",
       " u'abac',\n",
       " u'abaca',\n",
       " u'abacate',\n",
       " u'abacay',\n",
       " u'abacinate',\n",
       " u'abacination',\n",
       " u'abaciscus',\n",
       " u'abacist',\n",
       " u'aback',\n",
       " u'abactinal',\n",
       " u'abactinally',\n",
       " u'abaction',\n",
       " u'abactor',\n",
       " u'abaculus',\n",
       " u'abacus',\n",
       " u'Abadite',\n",
       " u'abaff',\n",
       " u'abaft',\n",
       " u'abaisance',\n",
       " u'abaiser',\n",
       " u'abaissed',\n",
       " u'abalienate',\n",
       " u'abalienation',\n",
       " u'abalone',\n",
       " u'Abama',\n",
       " u'abampere',\n",
       " u'abandon',\n",
       " u'abandonable',\n",
       " u'abandoned',\n",
       " u'abandonedly',\n",
       " u'abandonee',\n",
       " u'abandoner',\n",
       " u'abandonment',\n",
       " u'Abanic',\n",
       " u'Abantes',\n",
       " u'abaptiston',\n",
       " u'Abarambo',\n",
       " u'Abaris',\n",
       " u'abarthrosis',\n",
       " u'abarticular',\n",
       " u'abarticulation',\n",
       " u'abas',\n",
       " u'abase',\n",
       " u'abased',\n",
       " u'abasedly',\n",
       " u'abasedness',\n",
       " u'abasement',\n",
       " u'abaser',\n",
       " u'Abasgi',\n",
       " u'abash',\n",
       " u'abashed',\n",
       " u'abashedly',\n",
       " u'abashedness',\n",
       " u'abashless',\n",
       " u'abashlessly',\n",
       " u'abashment',\n",
       " u'abasia',\n",
       " u'abasic',\n",
       " u'abask',\n",
       " u'Abassin',\n",
       " u'abastardize',\n",
       " u'abatable',\n",
       " u'abate',\n",
       " u'abatement',\n",
       " u'abater',\n",
       " u'abatis',\n",
       " u'abatised',\n",
       " u'abaton',\n",
       " u'abator',\n",
       " u'abattoir',\n",
       " u'Abatua',\n",
       " u'abature',\n",
       " u'abave',\n",
       " u'abaxial',\n",
       " u'abaxile',\n",
       " u'abaze',\n",
       " u'abb',\n",
       " u'Abba',\n",
       " u'abbacomes',\n",
       " u'abbacy',\n",
       " u'Abbadide',\n",
       " u'abbas',\n",
       " u'abbasi',\n",
       " u'abbassi',\n",
       " u'Abbasside',\n",
       " u'abbatial',\n",
       " u'abbatical',\n",
       " u'abbess',\n",
       " u'abbey',\n",
       " u'abbeystede',\n",
       " u'Abbie',\n",
       " u'abbot',\n",
       " u'abbotcy',\n",
       " u'abbotnullius',\n",
       " u'abbotship',\n",
       " u'abbreviate',\n",
       " u'abbreviately',\n",
       " u'abbreviation',\n",
       " u'abbreviator',\n",
       " u'abbreviatory',\n",
       " u'abbreviature',\n",
       " u'Abby',\n",
       " u'abcoulomb',\n",
       " u'abdal',\n",
       " u'abdat',\n",
       " u'Abderian',\n",
       " u'Abderite',\n",
       " u'abdest',\n",
       " u'abdicable',\n",
       " u'abdicant',\n",
       " u'abdicate',\n",
       " u'abdication',\n",
       " u'abdicative',\n",
       " u'abdicator',\n",
       " u'Abdiel',\n",
       " u'abditive',\n",
       " u'abditory',\n",
       " u'abdomen',\n",
       " u'abdominal',\n",
       " u'Abdominales',\n",
       " u'abdominalian',\n",
       " u'abdominally',\n",
       " u'abdominoanterior',\n",
       " u'abdominocardiac',\n",
       " u'abdominocentesis',\n",
       " u'abdominocystic',\n",
       " u'abdominogenital',\n",
       " u'abdominohysterectomy',\n",
       " u'abdominohysterotomy',\n",
       " u'abdominoposterior',\n",
       " u'abdominoscope',\n",
       " u'abdominoscopy',\n",
       " u'abdominothoracic',\n",
       " u'abdominous',\n",
       " u'abdominovaginal',\n",
       " u'abdominovesical',\n",
       " u'abduce',\n",
       " u'abducens',\n",
       " u'abducent',\n",
       " u'abduct',\n",
       " u'abduction',\n",
       " u'abductor',\n",
       " u'Abe',\n",
       " u'abeam',\n",
       " u'abear',\n",
       " u'abearance',\n",
       " u'abecedarian',\n",
       " u'abecedarium',\n",
       " u'abecedary',\n",
       " u'abed',\n",
       " u'abeigh',\n",
       " u'Abel',\n",
       " u'abele',\n",
       " u'Abelia',\n",
       " u'Abelian',\n",
       " u'Abelicea',\n",
       " u'Abelite',\n",
       " u'abelite',\n",
       " u'Abelmoschus',\n",
       " u'abelmosk',\n",
       " u'Abelonian',\n",
       " u'abeltree',\n",
       " u'Abencerrages',\n",
       " u'abenteric',\n",
       " u'abepithymia',\n",
       " u'Aberdeen',\n",
       " u'aberdevine',\n",
       " u'Aberdonian',\n",
       " u'Aberia',\n",
       " u'aberrance',\n",
       " u'aberrancy',\n",
       " u'aberrant',\n",
       " u'aberrate',\n",
       " u'aberration',\n",
       " u'aberrational',\n",
       " u'aberrator',\n",
       " u'aberrometer',\n",
       " u'aberroscope',\n",
       " u'aberuncator',\n",
       " u'abet',\n",
       " u'abetment',\n",
       " u'abettal',\n",
       " u'abettor',\n",
       " u'abevacuation',\n",
       " u'abey',\n",
       " u'abeyance',\n",
       " u'abeyancy',\n",
       " u'abeyant',\n",
       " u'abfarad',\n",
       " u'abhenry',\n",
       " u'abhiseka',\n",
       " u'abhominable',\n",
       " u'abhor',\n",
       " u'abhorrence',\n",
       " u'abhorrency',\n",
       " u'abhorrent',\n",
       " u'abhorrently',\n",
       " u'abhorrer',\n",
       " u'abhorrible',\n",
       " u'abhorring',\n",
       " u'Abhorson',\n",
       " u'abidal',\n",
       " u'abidance',\n",
       " u'abide',\n",
       " u'abider',\n",
       " u'abidi',\n",
       " u'abiding',\n",
       " u'abidingly',\n",
       " u'abidingness',\n",
       " u'Abie',\n",
       " u'Abies',\n",
       " u'abietate',\n",
       " u'abietene',\n",
       " u'abietic',\n",
       " u'abietin',\n",
       " u'Abietineae',\n",
       " u'abietineous',\n",
       " u'abietinic',\n",
       " u'Abiezer',\n",
       " u'Abigail',\n",
       " u'abigail',\n",
       " u'abigailship',\n",
       " u'abigeat',\n",
       " u'abigeus',\n",
       " u'abilao',\n",
       " u'ability',\n",
       " u'abilla',\n",
       " u'abilo',\n",
       " u'abintestate',\n",
       " u'abiogenesis',\n",
       " u'abiogenesist',\n",
       " u'abiogenetic',\n",
       " u'abiogenetical',\n",
       " u'abiogenetically',\n",
       " u'abiogenist',\n",
       " u'abiogenous',\n",
       " u'abiogeny',\n",
       " u'abiological',\n",
       " u'abiologically',\n",
       " u'abiology',\n",
       " u'abiosis',\n",
       " u'abiotic',\n",
       " u'abiotrophic',\n",
       " u'abiotrophy',\n",
       " u'Abipon',\n",
       " u'abir',\n",
       " u'abirritant',\n",
       " u'abirritate',\n",
       " u'abirritation',\n",
       " u'abirritative',\n",
       " u'abiston',\n",
       " u'Abitibi',\n",
       " u'abiuret',\n",
       " u'abject',\n",
       " u'abjectedness',\n",
       " u'abjection',\n",
       " u'abjective',\n",
       " u'abjectly',\n",
       " u'abjectness',\n",
       " u'abjoint',\n",
       " u'abjudge',\n",
       " u'abjudicate',\n",
       " u'abjudication',\n",
       " u'abjunction',\n",
       " u'abjunctive',\n",
       " u'abjuration',\n",
       " u'abjuratory',\n",
       " u'abjure',\n",
       " u'abjurement',\n",
       " u'abjurer',\n",
       " u'abkar',\n",
       " u'abkari',\n",
       " u'Abkhas',\n",
       " u'Abkhasian',\n",
       " u'ablach',\n",
       " u'ablactate',\n",
       " u'ablactation',\n",
       " u'ablare',\n",
       " u'ablastemic',\n",
       " u'ablastous',\n",
       " u'ablate',\n",
       " u'ablation',\n",
       " u'ablatitious',\n",
       " u'ablatival',\n",
       " u'ablative',\n",
       " u'ablator',\n",
       " u'ablaut',\n",
       " u'ablaze',\n",
       " u'able',\n",
       " u'ableeze',\n",
       " u'ablegate',\n",
       " u'ableness',\n",
       " u'ablepharia',\n",
       " u'ablepharon',\n",
       " u'ablepharous',\n",
       " u'Ablepharus',\n",
       " u'ablepsia',\n",
       " u'ableptical',\n",
       " u'ableptically',\n",
       " u'abler',\n",
       " u'ablest',\n",
       " u'ablewhackets',\n",
       " u'ablins',\n",
       " u'abloom',\n",
       " u'ablow',\n",
       " u'ablude',\n",
       " u'abluent',\n",
       " u'ablush',\n",
       " u'ablution',\n",
       " u'ablutionary',\n",
       " u'abluvion',\n",
       " u'ably',\n",
       " u'abmho',\n",
       " u'Abnaki',\n",
       " u'abnegate',\n",
       " u'abnegation',\n",
       " u'abnegative',\n",
       " u'abnegator',\n",
       " u'Abner',\n",
       " u'abnerval',\n",
       " u'abnet',\n",
       " u'abneural',\n",
       " u'abnormal',\n",
       " u'abnormalism',\n",
       " u'abnormalist',\n",
       " u'abnormality',\n",
       " u'abnormalize',\n",
       " u'abnormally',\n",
       " u'abnormalness',\n",
       " u'abnormity',\n",
       " u'abnormous',\n",
       " u'abnumerable',\n",
       " u'Abo',\n",
       " u'aboard',\n",
       " u'Abobra',\n",
       " u'abode',\n",
       " u'abodement',\n",
       " u'abody',\n",
       " u'abohm',\n",
       " u'aboil',\n",
       " u'abolish',\n",
       " u'abolisher',\n",
       " u'abolishment',\n",
       " u'abolition',\n",
       " u'abolitionary',\n",
       " u'abolitionism',\n",
       " u'abolitionist',\n",
       " u'abolitionize',\n",
       " u'abolla',\n",
       " u'aboma',\n",
       " u'abomasum',\n",
       " u'abomasus',\n",
       " u'abominable',\n",
       " u'abominableness',\n",
       " u'abominably',\n",
       " u'abominate',\n",
       " u'abomination',\n",
       " u'abominator',\n",
       " u'abomine',\n",
       " u'Abongo',\n",
       " u'aboon',\n",
       " u'aborad',\n",
       " u'aboral',\n",
       " u'aborally',\n",
       " u'abord',\n",
       " u'aboriginal',\n",
       " u'aboriginality',\n",
       " u'aboriginally',\n",
       " u'aboriginary',\n",
       " u'aborigine',\n",
       " u'abort',\n",
       " u'aborted',\n",
       " u'aborticide',\n",
       " u'abortient',\n",
       " u'abortifacient',\n",
       " u'abortin',\n",
       " u'abortion',\n",
       " u'abortional',\n",
       " u'abortionist',\n",
       " u'abortive',\n",
       " u'abortively',\n",
       " u'abortiveness',\n",
       " u'abortus',\n",
       " u'abouchement',\n",
       " u'abound',\n",
       " u'abounder',\n",
       " u'abounding',\n",
       " u'aboundingly',\n",
       " u'about',\n",
       " u'abouts',\n",
       " u'above',\n",
       " u'aboveboard',\n",
       " u'abovedeck',\n",
       " u'aboveground',\n",
       " u'aboveproof',\n",
       " u'abovestairs',\n",
       " u'abox',\n",
       " u'abracadabra',\n",
       " u'abrachia',\n",
       " u'abradant',\n",
       " u'abrade',\n",
       " u'abrader',\n",
       " u'Abraham',\n",
       " u'Abrahamic',\n",
       " u'Abrahamidae',\n",
       " u'Abrahamite',\n",
       " u'Abrahamitic',\n",
       " u'abraid',\n",
       " u'Abram',\n",
       " u'Abramis',\n",
       " u'abranchial',\n",
       " u'abranchialism',\n",
       " u'abranchian',\n",
       " u'Abranchiata',\n",
       " u'abranchiate',\n",
       " u'abranchious',\n",
       " u'abrasax',\n",
       " u'abrase',\n",
       " u'abrash',\n",
       " u'abrasiometer',\n",
       " u'abrasion',\n",
       " u'abrasive',\n",
       " u'abrastol',\n",
       " u'abraum',\n",
       " u'abraxas',\n",
       " u'abreact',\n",
       " u'abreaction',\n",
       " u'abreast',\n",
       " u'abrenounce',\n",
       " u'abret',\n",
       " u'abrico',\n",
       " u'abridge',\n",
       " u'abridgeable',\n",
       " u'abridged',\n",
       " u'abridgedly',\n",
       " u'abridger',\n",
       " u'abridgment',\n",
       " u'abrim',\n",
       " u'abrin',\n",
       " u'abristle',\n",
       " u'abroach',\n",
       " u'abroad',\n",
       " u'Abrocoma',\n",
       " u'abrocome',\n",
       " u'abrogable',\n",
       " u'abrogate',\n",
       " u'abrogation',\n",
       " u'abrogative',\n",
       " u'abrogator',\n",
       " u'Abroma',\n",
       " u'Abronia',\n",
       " u'abrook',\n",
       " u'abrotanum',\n",
       " u'abrotine',\n",
       " u'abrupt',\n",
       " u'abruptedly',\n",
       " u'abruption',\n",
       " u'abruptly',\n",
       " u'abruptness',\n",
       " u'Abrus',\n",
       " u'Absalom',\n",
       " u'absampere',\n",
       " u'Absaroka',\n",
       " u'absarokite',\n",
       " u'abscess',\n",
       " u'abscessed',\n",
       " u'abscession',\n",
       " u'abscessroot',\n",
       " u'abscind',\n",
       " u'abscise',\n",
       " u'abscision',\n",
       " u'absciss',\n",
       " u'abscissa',\n",
       " u'abscissae',\n",
       " u'abscisse',\n",
       " u'abscission',\n",
       " u'absconce',\n",
       " u'abscond',\n",
       " u'absconded',\n",
       " u'abscondedly',\n",
       " u'abscondence',\n",
       " u'absconder',\n",
       " u'absconsa',\n",
       " u'abscoulomb',\n",
       " u'absence',\n",
       " u'absent',\n",
       " u'absentation',\n",
       " u'absentee',\n",
       " u'absenteeism',\n",
       " u'absenteeship',\n",
       " u'absenter',\n",
       " u'absently',\n",
       " u'absentment',\n",
       " u'absentmindedly',\n",
       " u'absentness',\n",
       " u'absfarad',\n",
       " u'abshenry',\n",
       " u'Absi',\n",
       " u'absinthe',\n",
       " u'absinthial',\n",
       " u'absinthian',\n",
       " u'absinthiate',\n",
       " u'absinthic',\n",
       " u'absinthin',\n",
       " u'absinthine',\n",
       " u'absinthism',\n",
       " u'absinthismic',\n",
       " u'absinthium',\n",
       " u'absinthol',\n",
       " u'absit',\n",
       " u'absmho',\n",
       " u'absohm',\n",
       " u'absolute',\n",
       " u'absolutely',\n",
       " u'absoluteness',\n",
       " u'absolution',\n",
       " u'absolutism',\n",
       " u'absolutist',\n",
       " u'absolutistic',\n",
       " u'absolutistically',\n",
       " u'absolutive',\n",
       " u'absolutization',\n",
       " u'absolutize',\n",
       " u'absolutory',\n",
       " u'absolvable',\n",
       " u'absolvatory',\n",
       " u'absolve',\n",
       " u'absolvent',\n",
       " u'absolver',\n",
       " u'absolvitor',\n",
       " u'absolvitory',\n",
       " u'absonant',\n",
       " u'absonous',\n",
       " u'absorb',\n",
       " u'absorbability',\n",
       " u'absorbable',\n",
       " u'absorbed',\n",
       " u'absorbedly',\n",
       " u'absorbedness',\n",
       " u'absorbefacient',\n",
       " u'absorbency',\n",
       " u'absorbent',\n",
       " u'absorber',\n",
       " u'absorbing',\n",
       " u'absorbingly',\n",
       " u'absorbition',\n",
       " u'absorpt',\n",
       " u'absorptance',\n",
       " u'absorptiometer',\n",
       " u'absorptiometric',\n",
       " u'absorption',\n",
       " u'absorptive',\n",
       " u'absorptively',\n",
       " u'absorptiveness',\n",
       " u'absorptivity',\n",
       " u'absquatulate',\n",
       " u'abstain',\n",
       " u'abstainer',\n",
       " u'abstainment',\n",
       " u'abstemious',\n",
       " u'abstemiously',\n",
       " u'abstemiousness',\n",
       " u'abstention',\n",
       " u'abstentionist',\n",
       " u'abstentious',\n",
       " u'absterge',\n",
       " u'abstergent',\n",
       " u'abstersion',\n",
       " u'abstersive',\n",
       " u'abstersiveness',\n",
       " u'abstinence',\n",
       " u'abstinency',\n",
       " u'abstinent',\n",
       " u'abstinential',\n",
       " u'abstinently',\n",
       " u'abstract',\n",
       " u'abstracted',\n",
       " u'abstractedly',\n",
       " u'abstractedness',\n",
       " u'abstracter',\n",
       " u'abstraction',\n",
       " u'abstractional',\n",
       " u'abstractionism',\n",
       " u'abstractionist',\n",
       " u'abstractitious',\n",
       " u'abstractive',\n",
       " u'abstractively',\n",
       " u'abstractiveness',\n",
       " u'abstractly',\n",
       " u'abstractness',\n",
       " u'abstractor',\n",
       " u'abstrahent',\n",
       " u'abstricted',\n",
       " u'abstriction',\n",
       " u'abstruse',\n",
       " u'abstrusely',\n",
       " u'abstruseness',\n",
       " u'abstrusion',\n",
       " u'abstrusity',\n",
       " u'absume',\n",
       " u'absumption',\n",
       " u'absurd',\n",
       " u'absurdity',\n",
       " u'absurdly',\n",
       " u'absurdness',\n",
       " u'absvolt',\n",
       " u'Absyrtus',\n",
       " u'abterminal',\n",
       " u'abthain',\n",
       " u'abthainrie',\n",
       " u'abthainry',\n",
       " u'abthanage',\n",
       " u'Abu',\n",
       " u'abu',\n",
       " u'abucco',\n",
       " u'abulia',\n",
       " u'abulic',\n",
       " u'abulomania',\n",
       " u'abuna',\n",
       " u'abundance',\n",
       " u'abundancy',\n",
       " u'abundant',\n",
       " u'Abundantia',\n",
       " u'abundantly',\n",
       " u'abura',\n",
       " u'aburabozu',\n",
       " u'aburban',\n",
       " u'aburst',\n",
       " u'aburton',\n",
       " u'abusable',\n",
       " u'abuse',\n",
       " u'abusedly',\n",
       " u'abusee',\n",
       " u'abuseful',\n",
       " u'abusefully',\n",
       " u'abusefulness',\n",
       " u'abuser',\n",
       " u'abusion',\n",
       " u'abusious',\n",
       " u'abusive',\n",
       " u'abusively',\n",
       " u'abusiveness',\n",
       " u'abut',\n",
       " u'Abuta',\n",
       " u'Abutilon',\n",
       " u'abutment',\n",
       " u'abuttal',\n",
       " u'abutter',\n",
       " u'abutting',\n",
       " u'abuzz',\n",
       " u'abvolt',\n",
       " u'abwab',\n",
       " u'aby',\n",
       " u'abysm',\n",
       " u'abysmal',\n",
       " u'abysmally',\n",
       " u'abyss',\n",
       " u'abyssal',\n",
       " u'Abyssinian',\n",
       " u'abyssobenthonic',\n",
       " u'abyssolith',\n",
       " u'abyssopelagic',\n",
       " u'acacatechin',\n",
       " u'acacatechol',\n",
       " u'acacetin',\n",
       " u'Acacia',\n",
       " u'Acacian',\n",
       " u'acaciin',\n",
       " u'acacin',\n",
       " u'academe',\n",
       " u'academial',\n",
       " u'academian',\n",
       " u'Academic',\n",
       " u'academic',\n",
       " u'academical',\n",
       " u'academically',\n",
       " u'academicals',\n",
       " u'academician',\n",
       " u'academicism',\n",
       " u'academism',\n",
       " u'academist',\n",
       " u'academite',\n",
       " u'academization',\n",
       " u'academize',\n",
       " u'Academus',\n",
       " u'academy',\n",
       " u'Acadia',\n",
       " u'acadialite',\n",
       " u'Acadian',\n",
       " u'Acadie',\n",
       " u'Acaena',\n",
       " u'acajou',\n",
       " u'acaleph',\n",
       " u'Acalepha',\n",
       " u'Acalephae',\n",
       " u'acalephan',\n",
       " u'acalephoid',\n",
       " u'acalycal',\n",
       " u'acalycine',\n",
       " u'acalycinous',\n",
       " u'acalyculate',\n",
       " u'Acalypha',\n",
       " u'Acalypterae',\n",
       " u'Acalyptrata',\n",
       " u'Acalyptratae',\n",
       " u'acalyptrate',\n",
       " u'Acamar',\n",
       " u'acampsia',\n",
       " u'acana',\n",
       " u'acanaceous',\n",
       " u'acanonical',\n",
       " u'acanth',\n",
       " u'acantha',\n",
       " u'Acanthaceae',\n",
       " u'acanthaceous',\n",
       " u'acanthad',\n",
       " u'Acantharia',\n",
       " u'Acanthia',\n",
       " u'acanthial',\n",
       " u'acanthin',\n",
       " u'acanthine',\n",
       " u'acanthion',\n",
       " u'acanthite',\n",
       " u'acanthocarpous',\n",
       " u'Acanthocephala',\n",
       " u'acanthocephalan',\n",
       " u'Acanthocephali',\n",
       " u'acanthocephalous',\n",
       " u'Acanthocereus',\n",
       " u'acanthocladous',\n",
       " u'Acanthodea',\n",
       " u'acanthodean',\n",
       " u'Acanthodei',\n",
       " u'Acanthodes',\n",
       " u'acanthodian',\n",
       " u'Acanthodidae',\n",
       " u'Acanthodii',\n",
       " u'Acanthodini',\n",
       " u'acanthoid',\n",
       " u'Acantholimon',\n",
       " u'acanthological',\n",
       " u'acanthology',\n",
       " u'acantholysis',\n",
       " u'acanthoma',\n",
       " u'Acanthomeridae',\n",
       " u'acanthon',\n",
       " u'Acanthopanax',\n",
       " u'Acanthophis',\n",
       " u'acanthophorous',\n",
       " u'acanthopod',\n",
       " u'acanthopodous',\n",
       " u'acanthopomatous',\n",
       " u'acanthopore',\n",
       " u'acanthopteran',\n",
       " u'Acanthopteri',\n",
       " u'acanthopterous',\n",
       " u'acanthopterygian',\n",
       " u'Acanthopterygii',\n",
       " u'acanthosis',\n",
       " u'acanthous',\n",
       " u'Acanthuridae',\n",
       " u'Acanthurus',\n",
       " u'acanthus',\n",
       " u'acapnia',\n",
       " u'acapnial',\n",
       " u'acapsular',\n",
       " u'acapu',\n",
       " u'acapulco',\n",
       " u'acara',\n",
       " u'Acarapis',\n",
       " u'acardia',\n",
       " u'acardiac',\n",
       " u'acari',\n",
       " u'acarian',\n",
       " u'acariasis',\n",
       " u'acaricidal',\n",
       " u'acaricide',\n",
       " u'acarid',\n",
       " u'Acarida',\n",
       " u'Acaridea',\n",
       " u'acaridean',\n",
       " u'acaridomatium',\n",
       " u'acariform',\n",
       " u'Acarina',\n",
       " u'acarine',\n",
       " u'acarinosis',\n",
       " u'acarocecidium',\n",
       " u'acarodermatitis',\n",
       " u'acaroid',\n",
       " u'acarol',\n",
       " u'acarologist',\n",
       " u'acarology',\n",
       " u'acarophilous',\n",
       " u'acarophobia',\n",
       " u'acarotoxic',\n",
       " u'acarpelous',\n",
       " u'acarpous',\n",
       " u'Acarus',\n",
       " u'Acastus',\n",
       " u'acatalectic',\n",
       " u'acatalepsia',\n",
       " u'acatalepsy',\n",
       " u'acataleptic',\n",
       " u'acatallactic',\n",
       " u'acatamathesia',\n",
       " u'acataphasia',\n",
       " u'acataposis',\n",
       " u'acatastasia',\n",
       " u'acatastatic',\n",
       " u'acate',\n",
       " u'acategorical',\n",
       " u'acatery',\n",
       " u'acatharsia',\n",
       " u'acatharsy',\n",
       " u'acatholic',\n",
       " u'acaudal',\n",
       " u'acaudate',\n",
       " u'acaulescent',\n",
       " u'acauline',\n",
       " u'acaulose',\n",
       " u'acaulous',\n",
       " u'acca',\n",
       " u'accede',\n",
       " u'accedence',\n",
       " u'acceder',\n",
       " u'accelerable',\n",
       " u'accelerando',\n",
       " u'accelerant',\n",
       " u'accelerate',\n",
       " u'accelerated',\n",
       " u'acceleratedly',\n",
       " u'acceleration',\n",
       " u'accelerative',\n",
       " u'accelerator',\n",
       " u'acceleratory',\n",
       " u'accelerograph',\n",
       " u'accelerometer',\n",
       " u'accend',\n",
       " u'accendibility',\n",
       " u'accendible',\n",
       " u'accension',\n",
       " u'accensor',\n",
       " u'accent',\n",
       " u'accentless',\n",
       " u'accentor',\n",
       " u'accentuable',\n",
       " u'accentual',\n",
       " u'accentuality',\n",
       " u'accentually',\n",
       " u'accentuate',\n",
       " u'accentuation',\n",
       " u'accentuator',\n",
       " u'accentus',\n",
       " u'accept',\n",
       " u'acceptability',\n",
       " u'acceptable',\n",
       " u'acceptableness',\n",
       " u'acceptably',\n",
       " u'acceptance',\n",
       " u'acceptancy',\n",
       " u'acceptant',\n",
       " u'acceptation',\n",
       " u'accepted',\n",
       " u'acceptedly',\n",
       " u'accepter',\n",
       " u'acceptilate',\n",
       " u'acceptilation',\n",
       " u'acception',\n",
       " u'acceptive',\n",
       " u'acceptor',\n",
       " u'acceptress',\n",
       " u'accerse',\n",
       " u'accersition',\n",
       " u'accersitor',\n",
       " u'access',\n",
       " u'accessarily',\n",
       " u'accessariness',\n",
       " u'accessary',\n",
       " u'accessaryship',\n",
       " u'accessibility',\n",
       " u'accessible',\n",
       " u'accessibly',\n",
       " u'accession',\n",
       " u'accessional',\n",
       " u'accessioner',\n",
       " u'accessive',\n",
       " u'accessively',\n",
       " u'accessless',\n",
       " u'accessorial',\n",
       " u'accessorily',\n",
       " u'accessoriness',\n",
       " u'accessorius',\n",
       " u'accessory',\n",
       " u'accidence',\n",
       " u'accidency',\n",
       " u'accident',\n",
       " u'accidental',\n",
       " u'accidentalism',\n",
       " u'accidentalist',\n",
       " u'accidentality',\n",
       " u'accidentally',\n",
       " u'accidentalness',\n",
       " u'accidented',\n",
       " u'accidential',\n",
       " u'accidentiality',\n",
       " u'accidently',\n",
       " u'accidia',\n",
       " u'accidie',\n",
       " u'accinge',\n",
       " u'accipient',\n",
       " u'Accipiter',\n",
       " u'accipitral',\n",
       " u'accipitrary',\n",
       " u'Accipitres',\n",
       " u'accipitrine',\n",
       " u'accismus',\n",
       " u'accite',\n",
       " u'acclaim',\n",
       " u'acclaimable',\n",
       " u'acclaimer',\n",
       " u'acclamation',\n",
       " u'acclamator',\n",
       " u'acclamatory',\n",
       " u'acclimatable',\n",
       " u'acclimatation',\n",
       " u'acclimate',\n",
       " u'acclimatement',\n",
       " u'acclimation',\n",
       " u'acclimatizable',\n",
       " u'acclimatization',\n",
       " u'acclimatize',\n",
       " u'acclimatizer',\n",
       " u'acclimature',\n",
       " u'acclinal',\n",
       " u'acclinate',\n",
       " u'acclivitous',\n",
       " u'acclivity',\n",
       " u'acclivous',\n",
       " u'accloy',\n",
       " u'accoast',\n",
       " u'accoil',\n",
       " u'accolade',\n",
       " u'accoladed',\n",
       " u'accolated',\n",
       " u'accolent',\n",
       " u'accolle',\n",
       " u'accombination',\n",
       " u'accommodable',\n",
       " u'accommodableness',\n",
       " u'accommodate',\n",
       " u'accommodately',\n",
       " u'accommodateness',\n",
       " u'accommodating',\n",
       " u'accommodatingly',\n",
       " u'accommodation',\n",
       " u'accommodational',\n",
       " u'accommodative',\n",
       " u'accommodativeness',\n",
       " u'accommodator',\n",
       " u'accompanier',\n",
       " u'accompaniment',\n",
       " u'accompanimental',\n",
       " u'accompanist',\n",
       " u'accompany',\n",
       " u'accompanyist',\n",
       " u'accompletive',\n",
       " u'accomplice',\n",
       " u'accompliceship',\n",
       " u'accomplicity',\n",
       " u'accomplish',\n",
       " u'accomplishable',\n",
       " u'accomplished',\n",
       " u'accomplisher',\n",
       " u'accomplishment',\n",
       " u'accomplisht',\n",
       " u'accompt',\n",
       " u'accord',\n",
       " u'accordable',\n",
       " u'accordance',\n",
       " u'accordancy',\n",
       " u'accordant',\n",
       " ...]"
      ]
     },
     "execution_count": 11,
     "metadata": {},
     "output_type": "execute_result"
    }
   ],
   "source": [
    "[i for i in words.words()]"
   ]
  },
  {
   "cell_type": "code",
   "execution_count": null,
   "metadata": {
    "collapsed": true
   },
   "outputs": [],
   "source": []
  },
  {
   "cell_type": "code",
   "execution_count": null,
   "metadata": {
    "collapsed": true
   },
   "outputs": [],
   "source": []
  },
  {
   "cell_type": "code",
   "execution_count": null,
   "metadata": {
    "collapsed": true
   },
   "outputs": [],
   "source": []
  },
  {
   "cell_type": "code",
   "execution_count": 12,
   "metadata": {
    "collapsed": false
   },
   "outputs": [],
   "source": [
    "arr_combos = []\n",
    "def FindWordModified(token, wordlist):\n",
    "    i = len(token) + 1\n",
    "    while i > 1:\n",
    "        i -= 1\n",
    "        if token[:i] in wordlist:\n",
    "            if len(token[:i]) > 1:\n",
    "                arr_combos.append(token[:i])\n",
    "#               print token[:i]\n",
    "    return arr_combos"
   ]
  },
  {
   "cell_type": "code",
   "execution_count": 13,
   "metadata": {
    "collapsed": false
   },
   "outputs": [
    {
     "data": {
      "text/plain": [
       "['hello', 'hell', 'he']"
      ]
     },
     "execution_count": 13,
     "metadata": {},
     "output_type": "execute_result"
    }
   ],
   "source": [
    "FindWordModified(\"hello\", words.words())"
   ]
  },
  {
   "cell_type": "code",
   "execution_count": 14,
   "metadata": {
    "collapsed": false
   },
   "outputs": [
    {
     "name": "stdout",
     "output_type": "stream",
     "text": [
      "we\n",
      "wear\n"
     ]
    }
   ],
   "source": [
    "input_word = \"wearethepeople\"\n",
    "\n",
    "\n",
    "for i in range(0,len(input_word)+1):\n",
    "    temp_word = input_word[:i]\n",
    "    if len(temp_word) > 1:\n",
    "        if temp_word in words.words():\n",
    "            print temp_word"
   ]
  },
  {
   "cell_type": "code",
   "execution_count": 15,
   "metadata": {
    "collapsed": false
   },
   "outputs": [
    {
     "name": "stdout",
     "output_type": "stream",
     "text": [
      "['we', 'ea', 'ar', 're', 'th', 'he']\n",
      "['ear', 'are', 'ret', 'the', 'hep']\n",
      "['wear']\n",
      "['rethe']\n",
      "['people']\n",
      "[]\n",
      "[]\n",
      "[]\n",
      "[]\n",
      "[]\n",
      "[]\n",
      "[]\n"
     ]
    }
   ],
   "source": [
    "# #Generates all valid combinations of words - according to the words.words() list.\n",
    "# #Assumption - A word is atleast of length two or more.\n",
    "\n",
    "input_word = \"wearethepeople\"\n",
    "for N in range(2, len(input_word)):\n",
    "    print [input_word[i:i+N] for i in range(len(input_word)-N+1) if input_word[i:i+N] in words.words()]"
   ]
  },
  {
   "cell_type": "code",
   "execution_count": 16,
   "metadata": {
    "collapsed": false
   },
   "outputs": [
    {
     "data": {
      "text/plain": [
       "['we',\n",
       " 'ea',\n",
       " 'ar',\n",
       " 're',\n",
       " 'th',\n",
       " 'he',\n",
       " 'ear',\n",
       " 'are',\n",
       " 'ret',\n",
       " 'the',\n",
       " 'hep',\n",
       " 'wear',\n",
       " 'rethe',\n",
       " 'people']"
      ]
     },
     "execution_count": 16,
     "metadata": {},
     "output_type": "execute_result"
    }
   ],
   "source": [
    "arr_valid_words = []\n",
    "for N in range(2, len(input_word)):\n",
    "    for i in range(len(input_word)-N+1):\n",
    "        if input_word[i:i+N] in words.words():\n",
    "            arr_valid_words.append(input_word[i:i+N])\n",
    "            \n",
    "arr_valid_words"
   ]
  },
  {
   "cell_type": "code",
   "execution_count": 17,
   "metadata": {
    "collapsed": false
   },
   "outputs": [
    {
     "data": {
      "text/plain": [
       "'w'"
      ]
     },
     "execution_count": 17,
     "metadata": {},
     "output_type": "execute_result"
    }
   ],
   "source": [
    "input_word[:1]"
   ]
  },
  {
   "cell_type": "code",
   "execution_count": 18,
   "metadata": {
    "collapsed": false
   },
   "outputs": [
    {
     "data": {
      "text/plain": [
       "['we', 'wear']"
      ]
     },
     "execution_count": 18,
     "metadata": {},
     "output_type": "execute_result"
    }
   ],
   "source": [
    "[i for i in arr_valid_words if i[0] == input_word[:1]]"
   ]
  },
  {
   "cell_type": "code",
   "execution_count": 19,
   "metadata": {
    "collapsed": false
   },
   "outputs": [
    {
     "data": {
      "text/plain": [
       "'arethepeople'"
      ]
     },
     "execution_count": 19,
     "metadata": {},
     "output_type": "execute_result"
    }
   ],
   "source": [
    "input_word.replace(\"we\", \"\")"
   ]
  },
  {
   "cell_type": "code",
   "execution_count": null,
   "metadata": {
    "collapsed": true
   },
   "outputs": [],
   "source": []
  },
  {
   "cell_type": "code",
   "execution_count": null,
   "metadata": {
    "collapsed": true
   },
   "outputs": [],
   "source": []
  },
  {
   "cell_type": "code",
   "execution_count": null,
   "metadata": {
    "collapsed": true
   },
   "outputs": [],
   "source": []
  },
  {
   "cell_type": "code",
   "execution_count": 20,
   "metadata": {
    "collapsed": false
   },
   "outputs": [
    {
     "name": "stdout",
     "output_type": "stream",
     "text": [
      "['we', 'wear']\n",
      "arethepeople\n",
      "['ar', 'are']\n",
      "ethepeople\n",
      "['ea', 'ear']\n",
      "ethepeople\n",
      "\n",
      "\n",
      "\n",
      "thepeople\n",
      "['th', 'the']\n",
      "epeople\n",
      "['ea', 'ear']\n",
      "epeople\n",
      "\n",
      "\n",
      "\n",
      "people\n",
      "['people']\n",
      "\n",
      "[]\n",
      "\n",
      "\n",
      "\n",
      "\n",
      "\n",
      "\n",
      "\n",
      "\n",
      "\n",
      "\n",
      "\n",
      "\n",
      "ethepeople\n",
      "['ea', 'ear']\n",
      "ethepeople\n",
      "\n",
      "\n",
      "\n",
      "\n",
      "\n",
      "\n"
     ]
    }
   ],
   "source": [
    "# #TESTED LOGIC\n",
    "def my_func(var_word, var_arr):\n",
    "    print [i for i in var_arr if i[0] == var_word[:1]]\n",
    "    for i in [i for i in var_arr if i[0] == var_word[:1]]:\n",
    "        print var_word.replace(i, \"\")\n",
    "        if var_word.replace(i, \"\") != var_word:\n",
    "            my_func(var_word.replace(i, \"\"), arr_valid_words)\n",
    "        else:\n",
    "            break\n",
    "        \n",
    "    print \"\\n\\n\"\n",
    "     \n",
    "my_func(\"wearethepeople\", arr_valid_words)"
   ]
  },
  {
   "cell_type": "code",
   "execution_count": 21,
   "metadata": {
    "collapsed": false
   },
   "outputs": [
    {
     "name": "stdout",
     "output_type": "stream",
     "text": [
      "['we', 'wear']\n",
      "['ar', 'are']\n",
      "['ea', 'ear']\n",
      "['th', 'the']\n",
      "['ea', 'ear']\n",
      "['people']\n",
      "[]\n",
      "['ea', 'ear']\n"
     ]
    }
   ],
   "source": [
    "def my_func(var_word, var_arr):\n",
    "    print [i for i in var_arr if i[0] == var_word[:1]]\n",
    "    for i in [i for i in var_arr if i[0] == var_word[:1]]:\n",
    "        if var_word.replace(i, \"\") != var_word:\n",
    "            my_func(var_word.replace(i, \"\"), arr_valid_words)\n",
    "        else:\n",
    "            break\n",
    "     \n",
    "my_func(\"wearethepeople\", arr_valid_words)"
   ]
  },
  {
   "cell_type": "code",
   "execution_count": null,
   "metadata": {
    "collapsed": false
   },
   "outputs": [],
   "source": []
  },
  {
   "cell_type": "code",
   "execution_count": null,
   "metadata": {
    "collapsed": true
   },
   "outputs": [],
   "source": []
  },
  {
   "cell_type": "code",
   "execution_count": null,
   "metadata": {
    "collapsed": true
   },
   "outputs": [],
   "source": []
  },
  {
   "cell_type": "code",
   "execution_count": null,
   "metadata": {
    "collapsed": true
   },
   "outputs": [],
   "source": []
  },
  {
   "cell_type": "code",
   "execution_count": null,
   "metadata": {
    "collapsed": true
   },
   "outputs": [],
   "source": []
  },
  {
   "cell_type": "code",
   "execution_count": 22,
   "metadata": {
    "collapsed": false
   },
   "outputs": [
    {
     "name": "stdout",
     "output_type": "stream",
     "text": [
      "[['we', 'wear'], ['ar', 'are'], ['ea', 'ear'], ['th', 'the'], ['ea', 'ear'], ['people'], ['ea', 'ear']]\n"
     ]
    }
   ],
   "source": [
    "input_word = \"wearethepeople\"\n",
    "\n",
    "arr_valid_words = []\n",
    "for N in range(2, len(input_word)):\n",
    "    for i in range(len(input_word)-N+1):\n",
    "        if input_word[i:i+N] in words.words():\n",
    "            arr_valid_words.append(input_word[i:i+N])\n",
    "            \n",
    "arr_valid_words\n",
    "\n",
    "arr_valid_sub_words = []\n",
    "def my_func(var_word, var_arr):\n",
    "    if [i for i in var_arr if i[0] == var_word[:1]]:\n",
    "#         print [i for i in var_arr if i[0] == var_word[:1]]\n",
    "        arr_valid_sub_words.append([i for i in var_arr if i[0] == var_word[:1]])\n",
    "    for i in [i for i in var_arr if i[0] == var_word[:1]]:\n",
    "        if var_word.replace(i, \"\") != var_word:\n",
    "            my_func(var_word.replace(i, \"\"), arr_valid_words)\n",
    "        else:\n",
    "            break\n",
    "     \n",
    "my_func(input_word, arr_valid_words)\n",
    "\n",
    "print arr_valid_sub_words"
   ]
  },
  {
   "cell_type": "raw",
   "metadata": {},
   "source": []
  },
  {
   "cell_type": "code",
   "execution_count": 38,
   "metadata": {
    "collapsed": false
   },
   "outputs": [
    {
     "name": "stdout",
     "output_type": "stream",
     "text": [
      "we are the people\n"
     ]
    }
   ],
   "source": [
    "input_word = \"wearethepeople\"\n",
    "\n",
    "def TagSegmenter(input_word):\n",
    "    arr_valid_words = []\n",
    "    for N in range(2, len(input_word)):\n",
    "        for i in range(len(input_word)-N+1):\n",
    "            if input_word[i:i+N] in words.words():\n",
    "                arr_valid_words.append(input_word[i:i+N])\n",
    "\n",
    "    arr_valid_words\n",
    "\n",
    "    arr_valid_sub_words = []\n",
    "    arr_vallid_sub_words_2 = []\n",
    "    def my_func(var_word, var_arr, var_sub_word):\n",
    "        arr_vallid_sub_words_2.append(var_sub_word)\n",
    "    #     if [i for i in var_arr if i[0] == var_word[:1]]:\n",
    "    #         if [i for i in var_arr if i[0] == var_word[:1] if i in input_word] not in arr_valid_sub_words:\n",
    "    #             arr_valid_sub_words.append([i for i in var_arr if i[0] == var_word[:1] if i in input_word])\n",
    "\n",
    "        for i in [i for i in var_arr if i[0] == var_word[:1]]:\n",
    "            if var_word.replace(i, \"\") != var_word:\n",
    "                my_func(var_word.replace(i, \"\"), arr_valid_words, i )\n",
    "            else:\n",
    "                break\n",
    "\n",
    "    my_func(input_word, arr_valid_words, \"\")\n",
    "\n",
    "    # print arr_valid_sub_words\n",
    "    # print arr_vallid_sub_words_2\n",
    "\n",
    "    arr_valid_output = []\n",
    "    import itertools\n",
    "    for i in list(itertools.combinations_with_replacement(arr_vallid_sub_words_2,4)):\n",
    "    #     print \"\".join(list(i))\n",
    "        if \"\".join(list(i)) == input_word:\n",
    "    #         print \" \".join(list(i)).lstrip()\n",
    "            arr_valid_output.append(\" \".join(list(i)).lstrip())\n",
    "    if arr_valid_output:\n",
    "        print arr_valid_output[0]\n",
    "    else:\n",
    "        print \"No Output\"\n",
    "        \n",
    "TagSegmenter(input_word)"
   ]
  },
  {
   "cell_type": "code",
   "execution_count": null,
   "metadata": {
    "collapsed": false
   },
   "outputs": [],
   "source": []
  },
  {
   "cell_type": "code",
   "execution_count": 199,
   "metadata": {
    "collapsed": false
   },
   "outputs": [],
   "source": [
    "import zlib\n",
    "import binascii\n",
    "# a = [\"Hello World\", \"Kartik\"]\n",
    "f = open(\"corpus - Copy.txt\", \"r\")\n",
    "a = f.read()"
   ]
  },
  {
   "cell_type": "code",
   "execution_count": 200,
   "metadata": {
    "collapsed": false
   },
   "outputs": [],
   "source": [
    "compressed = zlib.compress(str(a))\n",
    "b = str(binascii.hexlify(compressed))"
   ]
  },
  {
   "cell_type": "code",
   "execution_count": 201,
   "metadata": {
    "collapsed": false
   },
   "outputs": [],
   "source": [
    "import base64\n",
    "f_compress = open(\"compressed.txt\", \"w\")\n",
    "f_compress.write((b))\n",
    "f_compress.close()"
   ]
  },
  {
   "cell_type": "code",
   "execution_count": null,
   "metadata": {
    "collapsed": true
   },
   "outputs": [],
   "source": []
  },
  {
   "cell_type": "code",
   "execution_count": null,
   "metadata": {
    "collapsed": true
   },
   "outputs": [],
   "source": []
  },
  {
   "cell_type": "code",
   "execution_count": null,
   "metadata": {
    "collapsed": true
   },
   "outputs": [],
   "source": []
  },
  {
   "cell_type": "code",
   "execution_count": null,
   "metadata": {
    "collapsed": true
   },
   "outputs": [],
   "source": []
  }
 ],
 "metadata": {
  "kernelspec": {
   "display_name": "Python 2",
   "language": "python",
   "name": "python2"
  },
  "language_info": {
   "codemirror_mode": {
    "name": "ipython",
    "version": 2
   },
   "file_extension": ".py",
   "mimetype": "text/x-python",
   "name": "python",
   "nbconvert_exporter": "python",
   "pygments_lexer": "ipython2",
   "version": "2.7.9"
  }
 },
 "nbformat": 4,
 "nbformat_minor": 0
}
