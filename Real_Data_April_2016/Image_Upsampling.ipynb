{
 "cells": [
  {
   "cell_type": "markdown",
   "metadata": {},
   "source": [
    "You are provided with the RGBRGB values for a downsampled image and the downsampling coefficient (NN). Given the size of the original image (and assuming that the algorithm used for downsampling is the one described above), restore the original image using the interpolation or upsampling algorithm of your choice."
   ]
  },
  {
   "cell_type": "code",
   "execution_count": 1,
   "metadata": {
    "collapsed": true
   },
   "outputs": [],
   "source": [
    "# #Python Library Imports\n",
    "import numpy as np\n",
    "import scipy.ndimage"
   ]
  },
  {
   "cell_type": "code",
   "execution_count": 3,
   "metadata": {
    "collapsed": false
   },
   "outputs": [
    {
     "data": {
      "text/plain": [
       "array([[0, 1, 2],\n",
       "       [3, 4, 5],\n",
       "       [6, 7, 8]])"
      ]
     },
     "execution_count": 3,
     "metadata": {},
     "output_type": "execute_result"
    }
   ],
   "source": [
    "x = np.arange(9).reshape(3,3)\n",
    "x"
   ]
  },
  {
   "cell_type": "code",
   "execution_count": 8,
   "metadata": {
    "collapsed": false
   },
   "outputs": [
    {
     "data": {
      "text/plain": [
       "array([[[ 0,  1,  2],\n",
       "        [ 3,  4,  5],\n",
       "        [ 6,  7,  8]],\n",
       "\n",
       "       [[ 9, 10, 11],\n",
       "        [12, 13, 14],\n",
       "        [15, 16, 17]],\n",
       "\n",
       "       [[18, 19, 20],\n",
       "        [21, 22, 23],\n",
       "        [24, 25, 26]]])"
      ]
     },
     "execution_count": 8,
     "metadata": {},
     "output_type": "execute_result"
    }
   ],
   "source": [
    "data = np.arange(27).reshape(3,3,3)\n",
    "data"
   ]
  },
  {
   "cell_type": "code",
   "execution_count": 10,
   "metadata": {
    "collapsed": false
   },
   "outputs": [
    {
     "data": {
      "text/plain": [
       "array([[[ 0,  0,  1,  1,  2,  2],\n",
       "        [ 1,  1,  1,  2,  2,  3],\n",
       "        [ 2,  2,  3,  3,  4,  4],\n",
       "        [ 4,  4,  5,  5,  6,  6],\n",
       "        [ 5,  6,  6,  7,  7,  7],\n",
       "        [ 6,  6,  7,  7,  8,  8]],\n",
       "\n",
       "       [[ 9,  9, 10, 10, 11, 11],\n",
       "        [10, 10, 10, 11, 11, 12],\n",
       "        [11, 11, 12, 12, 13, 13],\n",
       "        [13, 13, 14, 14, 15, 15],\n",
       "        [14, 15, 15, 16, 16, 16],\n",
       "        [15, 15, 16, 16, 17, 17]],\n",
       "\n",
       "       [[18, 18, 19, 19, 20, 20],\n",
       "        [19, 19, 19, 20, 20, 21],\n",
       "        [20, 20, 21, 21, 22, 22],\n",
       "        [22, 22, 23, 23, 24, 24],\n",
       "        [23, 24, 24, 25, 25, 25],\n",
       "        [24, 24, 25, 25, 26, 26]]])"
      ]
     },
     "execution_count": 10,
     "metadata": {},
     "output_type": "execute_result"
    }
   ],
   "source": [
    "scipy.ndimage.zoom(data, (1, 2, 2))"
   ]
  },
  {
   "cell_type": "code",
   "execution_count": null,
   "metadata": {
    "collapsed": true
   },
   "outputs": [],
   "source": []
  },
  {
   "cell_type": "code",
   "execution_count": null,
   "metadata": {
    "collapsed": true
   },
   "outputs": [],
   "source": []
  },
  {
   "cell_type": "code",
   "execution_count": null,
   "metadata": {
    "collapsed": true
   },
   "outputs": [],
   "source": []
  },
  {
   "cell_type": "code",
   "execution_count": 15,
   "metadata": {
    "collapsed": false
   },
   "outputs": [],
   "source": [
    "a = \"\"\"0,0,200 0,0,10 10,0,0 90,90,50 90,90,10 255,255,255 100,100,88 80,80,80 15,75,255\"\"\""
   ]
  },
  {
   "cell_type": "code",
   "execution_count": 16,
   "metadata": {
    "collapsed": false
   },
   "outputs": [
    {
     "data": {
      "text/plain": [
       "'0,0,200 0,0,10 10,0,0 90,90,50 90,90,10 255,255,255 100,100,88 80,80,80 15,75,255'"
      ]
     },
     "execution_count": 16,
     "metadata": {},
     "output_type": "execute_result"
    }
   ],
   "source": [
    "a"
   ]
  },
  {
   "cell_type": "code",
   "execution_count": 25,
   "metadata": {
    "collapsed": false
   },
   "outputs": [
    {
     "data": {
      "text/plain": [
       "[[0, 0, 200],\n",
       " [0, 0, 10],\n",
       " [10, 0, 0],\n",
       " [90, 90, 50],\n",
       " [90, 90, 10],\n",
       " [255, 255, 255],\n",
       " [100, 100, 88],\n",
       " [80, 80, 80],\n",
       " [15, 75, 255]]"
      ]
     },
     "execution_count": 25,
     "metadata": {},
     "output_type": "execute_result"
    }
   ],
   "source": [
    "[map(int, i.split(\",\")) for i in a.split(\" \")]"
   ]
  },
  {
   "cell_type": "code",
   "execution_count": 26,
   "metadata": {
    "collapsed": false
   },
   "outputs": [
    {
     "data": {
      "text/plain": [
       "array([[  0,   0, 200],\n",
       "       [  0,   0,  10],\n",
       "       [ 10,   0,   0],\n",
       "       [ 90,  90,  50],\n",
       "       [ 90,  90,  10],\n",
       "       [255, 255, 255],\n",
       "       [100, 100,  88],\n",
       "       [ 80,  80,  80],\n",
       "       [ 15,  75, 255]])"
      ]
     },
     "execution_count": 26,
     "metadata": {},
     "output_type": "execute_result"
    }
   ],
   "source": [
    "np.array([map(int, i.split(\",\")) for i in a.split(\" \")])"
   ]
  },
  {
   "cell_type": "code",
   "execution_count": 38,
   "metadata": {
    "collapsed": false
   },
   "outputs": [
    {
     "data": {
      "text/plain": [
       "array([[[  0,   0, 200],\n",
       "        [  0,   0,  10],\n",
       "        [ 10,   0,   0]],\n",
       "\n",
       "       [[ 90,  90,  50],\n",
       "        [ 90,  90,  10],\n",
       "        [255, 255, 255]],\n",
       "\n",
       "       [[100, 100,  88],\n",
       "        [ 80,  80,  80],\n",
       "        [ 15,  75, 255]]])"
      ]
     },
     "execution_count": 38,
     "metadata": {},
     "output_type": "execute_result"
    }
   ],
   "source": [
    "data_one = np.array([map(int, i.split(\",\")) for i in a.split(\" \")]).reshape(3,3,3)\n",
    "data_one"
   ]
  },
  {
   "cell_type": "code",
   "execution_count": 42,
   "metadata": {
    "collapsed": false
   },
   "outputs": [
    {
     "data": {
      "text/plain": [
       "array([[[  0, -11, -19,  35, 147, 200],\n",
       "        [ -1,  -8, -14,  26, 110, 150],\n",
       "        [ -1,  -3,  -4,   8,  32,  44],\n",
       "        [  2,   2,   1,  -2,  -7,  -9],\n",
       "        [  7,   6,   2,  -2,  -6,  -7],\n",
       "        [ 10,   7,   2,  -1,  -1,   0]],\n",
       "\n",
       "       [[ 23,  16,  11,  47, 122, 158],\n",
       "        [ 20,  16,  12,  37,  89, 114],\n",
       "        [ 18,  18,  19,  21,  25,  27],\n",
       "        [ 36,  37,  37,  28,  11,   3],\n",
       "        [ 71,  70,  67,  59,  48,  43],\n",
       "        [ 88,  86,  80,  75,  70,  68]],\n",
       "\n",
       "       [[ 73,  74,  74,  73,  73,  72],\n",
       "        [ 65,  67,  68,  62,  49,  43],\n",
       "        [ 60,  64,  67,  50,  13,  -4],\n",
       "        [103, 107, 109,  90,  51,  33],\n",
       "        [192, 193, 191, 180, 161, 152],\n",
       "        [235, 234, 230, 224, 215, 211]],\n",
       "\n",
       "       [[100, 103, 106,  90,  58,  43],\n",
       "        [ 92,  95,  98,  79,  41,  23],\n",
       "        [ 84,  88,  91,  69,  23,   2],\n",
       "        [121, 124, 128, 113,  80,  65],\n",
       "        [199, 201, 206, 208, 209, 209],\n",
       "        [236, 238, 243, 254, 271, 279]],\n",
       "\n",
       "       [[102, 104, 105,  97,  78,  70],\n",
       "        [ 98,  99, 100,  89,  67,  57],\n",
       "        [ 90,  91,  90,  78,  54,  43],\n",
       "        [ 87,  89,  93,  96,  96,  96],\n",
       "        [ 90,  94, 109, 141, 191, 213],\n",
       "        [ 92,  97, 117, 164, 236, 269]],\n",
       "\n",
       "       [[100, 101, 101,  98,  91,  88],\n",
       "        [ 98,  98,  97,  91,  81,  77],\n",
       "        [ 90,  89,  87,  80,  70,  65],\n",
       "        [ 67,  68,  72,  84, 102, 110],\n",
       "        [ 31,  36,  55, 102, 175, 208],\n",
       "        [ 15,  21,  48, 112, 210, 255]]])"
      ]
     },
     "execution_count": 42,
     "metadata": {},
     "output_type": "execute_result"
    }
   ],
   "source": [
    "scipy.ndimage.zoom(data_one, 2, order=2)"
   ]
  },
  {
   "cell_type": "code",
   "execution_count": null,
   "metadata": {
    "collapsed": true
   },
   "outputs": [],
   "source": []
  }
 ],
 "metadata": {
  "kernelspec": {
   "display_name": "Python 2",
   "language": "python",
   "name": "python2"
  },
  "language_info": {
   "codemirror_mode": {
    "name": "ipython",
    "version": 2
   },
   "file_extension": ".py",
   "mimetype": "text/x-python",
   "name": "python",
   "nbconvert_exporter": "python",
   "pygments_lexer": "ipython2",
   "version": "2.7.9"
  }
 },
 "nbformat": 4,
 "nbformat_minor": 0
}
