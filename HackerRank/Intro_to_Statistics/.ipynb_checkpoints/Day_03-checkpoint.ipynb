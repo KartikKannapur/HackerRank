{
 "cells": [
  {
   "cell_type": "markdown",
   "metadata": {},
   "source": [
    "# Day 3: Basic Probability Puzzles #5"
   ]
  },
  {
   "cell_type": "markdown",
   "metadata": {},
   "source": [
    "### Objective \n",
    "In this challenge, we practice calculating probability.\n",
    "\n",
    "### Task \n",
    "There are 10 people about to sit down around a round table. Find the probability that 2 particular people will sit next to one another."
   ]
  },
  {
   "cell_type": "markdown",
   "metadata": {},
   "source": [
    "Answer : 2/9"
   ]
  },
  {
   "cell_type": "markdown",
   "metadata": {},
   "source": [
    "# Day 3: Basic Probability Puzzles #6"
   ]
  },
  {
   "cell_type": "markdown",
   "metadata": {},
   "source": [
    "### Objective \n",
    "In this challenge, we practice calculating probability.\n",
    "\n",
    "### Task \n",
    "Bag XX contains 5 white balls and 4 black balls. Bag YY contains 7 white balls and 6 black balls. You draw 1 ball from bag XX and, without observing its color, put it into bag YY. Now, if a ball is drawn from bag YY, find the probability that it is black."
   ]
  },
  {
   "cell_type": "markdown",
   "metadata": {},
   "source": [
    "Answer : 29/63"
   ]
  },
  {
   "cell_type": "markdown",
   "metadata": {},
   "source": [
    "# Day 3: Basic Probability Puzzles #7"
   ]
  },
  {
   "cell_type": "markdown",
   "metadata": {},
   "source": [
    "### Objective \n",
    "In this challenge, we practice calculating probability.\n",
    "\n",
    "### Task \n",
    "A firm produces steel pipes in three plants.\n",
    "\n",
    "Plant AA produces 500 units per day and has a fraction defective output of 0.005.\n",
    "Plant BB produces 1000 units per day and has a fraction defective output of 0.008.\n",
    "Plant CC produces 2000 units per day and has a fraction defective output of 0.010.\n",
    "At random, a pipe is selected from the day’s total production and it is found to be defective. What is the probability that it came from plant AA?"
   ]
  },
  {
   "cell_type": "markdown",
   "metadata": {},
   "source": [
    "Answer : 5/61"
   ]
  },
  {
   "cell_type": "markdown",
   "metadata": {},
   "source": [
    "# Day 3: Basic Probability Puzzles #8"
   ]
  },
  {
   "cell_type": "markdown",
   "metadata": {},
   "source": [
    "### Objective \n",
    "In this challenge, we practice calculating probability.\n",
    "\n",
    "### Task \n",
    "In a certain city, the probability of a resident not reading the morning newspaper is 12, and the probability of a resident not reading the evening newspaper is 25. The probability they will read both newspapers is 15.\n",
    "\n",
    "Find the probability that a resident reads a newspaper (i.e.: the morning, evening, or both papers)."
   ]
  },
  {
   "cell_type": "markdown",
   "metadata": {},
   "source": [
    "Answer : 9/10"
   ]
  }
 ],
 "metadata": {
  "kernelspec": {
   "display_name": "Python 2",
   "language": "python",
   "name": "python2"
  },
  "language_info": {
   "codemirror_mode": {
    "name": "ipython",
    "version": 2
   },
   "file_extension": ".py",
   "mimetype": "text/x-python",
   "name": "python",
   "nbconvert_exporter": "python",
   "pygments_lexer": "ipython2",
   "version": "2.7.9"
  }
 },
 "nbformat": 4,
 "nbformat_minor": 0
}
