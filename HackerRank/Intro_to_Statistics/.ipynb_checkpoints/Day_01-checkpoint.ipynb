{
 "cells": [
  {
   "cell_type": "markdown",
   "metadata": {},
   "source": [
    "# Day 1: Basic Statistics - A Warmup"
   ]
  },
  {
   "cell_type": "markdown",
   "metadata": {},
   "source": [
    "### Objective \n",
    "In this challenge, we practice calculating the mean, median, mode, standard deviation, and confidence intervals in statistics. \n",
    "\n",
    "### Task \n",
    "Given a single line of N space-separated integers describing an array, calculate and print the following:\n",
    "\n",
    "Mean (m): The average of all the integers.\n",
    "\n",
    "Array Median: If the number of integers is odd, display the middle element. Otherwise, display the average of the two middle elements.\n",
    "\n",
    "Mode: The element(s) that occur most frequently. If multiple elements satisfy this criteria, display the numerically smallest one.\n",
    "\n",
    "Standard Deviation (σ)\n",
    "\n",
    "Other than the modal values (which should all be integers), the answers should be in decimal form, correct to a single decimal point, 0.0 format. An error margin of ±0.1 will be tolerated for the standard deviation. The mean, mode and median values should match the expected answers exactly.\n",
    "\n",
    "Assume the numbers were sampled from a normal distribution. The sample is a reasonable representation of the distribution. A user can approximate that the population standard deviation ≃ standard deviation computed for the given points with the understanding that assumptions of normality are convenient approximations."
   ]
  },
  {
   "cell_type": "code",
   "execution_count": 30,
   "metadata": {
    "collapsed": true
   },
   "outputs": [],
   "source": [
    "# #Python Library Imports\n",
    "import numpy as np\n",
    "from scipy import stats"
   ]
  },
  {
   "cell_type": "code",
   "execution_count": 31,
   "metadata": {
    "collapsed": false
   },
   "outputs": [
    {
     "name": "stdout",
     "output_type": "stream",
     "text": [
      "43900.6\n",
      "44627.5\n",
      "4978\n",
      "30466.9475274\n"
     ]
    }
   ],
   "source": [
    "#count = int(raw_input())\n",
    "#numbers = raw_input()\n",
    "count = 10\n",
    "numbers = \"64630 11735 14216 99233 14470 4978 73429 38120 51135 67060\"\n",
    "\n",
    "arr_numbers = [int(var_num) for var_num in numbers.split()]\n",
    "\n",
    "# #MEAN\n",
    "print np.mean(arr_numbers)\n",
    "\n",
    "# #MEDIAN\n",
    "print np.median(arr_numbers)\n",
    "\n",
    "# #MODE\n",
    "print int(stats.mode(np.array(arr_numbers))[0])\n",
    "\n",
    "# #STANDARD DEVIATION\n",
    "print np.std(arr_numbers)"
   ]
  },
  {
   "cell_type": "markdown",
   "metadata": {},
   "source": [
    "#   "
   ]
  },
  {
   "cell_type": "markdown",
   "metadata": {},
   "source": [
    "# Day 1: Standard Deviation Puzzles #1"
   ]
  },
  {
   "cell_type": "markdown",
   "metadata": {},
   "source": [
    "### Objective \n",
    "In this challenge, we practice calculating standard deviation.\n",
    "\n",
    "### Task \n",
    "Find the largest possible value of N where the standard deviation of the values in the set {1,2,3,N} is equal to the standard deviation of the values in the set {1,2,3}.\n",
    "\n",
    "Output the value of N, correct to two decimal places."
   ]
  },
  {
   "cell_type": "code",
   "execution_count": 166,
   "metadata": {
    "collapsed": false
   },
   "outputs": [
    {
     "name": "stdout",
     "output_type": "stream",
     "text": [
      "2.0 0.816496580928\n"
     ]
    }
   ],
   "source": [
    "# #Input Sets\n",
    "set_original = [1,2,3]\n",
    "\n",
    "set_original_mean = np.mean(set_original)\n",
    "set_original_std = np.std(set_original)\n",
    "\n",
    "print set_original_mean, set_original_std"
   ]
  },
  {
   "cell_type": "code",
   "execution_count": 167,
   "metadata": {
    "collapsed": false
   },
   "outputs": [
    {
     "data": {
      "image/png": "[encoded data removed]",
      "text/latex": [
       "$$0.815889085599$$"
      ],
      "text/plain": [
       "0.815889085599"
      ]
     },
     "execution_count": 167,
     "metadata": {},
     "output_type": "execute_result"
    }
   ],
   "source": [
    "np.std([1,2,3,2.94])"
   ]
  },
  {
   "cell_type": "markdown",
   "metadata": {},
   "source": [
    "#   "
   ]
  },
  {
   "cell_type": "markdown",
   "metadata": {},
   "source": [
    "# Day 1: Standard Deviation Puzzles #2"
   ]
  },
  {
   "cell_type": "markdown",
   "metadata": {},
   "source": [
    "### Objective \n",
    "In this challenge, we practice calculating standard deviation.\n",
    "\n",
    "### Task \n",
    "The heights of a group of children are measured. The resulting data has a mean of 0.675 meters, and a standard deviation of 0.065 meters. One particular child is 90.25 centimeters tall. Compute z, the number of standard deviations away from the mean that the particular child is.\n",
    "\n",
    "Enter the value of z, correct to a scale of two decimal places."
   ]
  },
  {
   "cell_type": "code",
   "execution_count": 170,
   "metadata": {
    "collapsed": true
   },
   "outputs": [],
   "source": [
    "var_2_mean = 0.675\n",
    "var_2_std = 0.065\n",
    "\n",
    "child = 0.9025"
   ]
  },
  {
   "cell_type": "code",
   "execution_count": 172,
   "metadata": {
    "collapsed": false
   },
   "outputs": [
    {
     "data": {
      "image/png": "[encoded data removed]",
      "text/latex": [
       "$$3.5$$"
      ],
      "text/plain": [
       "3.5"
      ]
     },
     "execution_count": 172,
     "metadata": {},
     "output_type": "execute_result"
    }
   ],
   "source": [
    "(child - var_2_mean)/var_2_std"
   ]
  },
  {
   "cell_type": "code",
   "execution_count": null,
   "metadata": {
    "collapsed": true
   },
   "outputs": [],
   "source": []
  }
 ],
 "metadata": {
  "kernelspec": {
   "display_name": "Python 2",
   "language": "python",
   "name": "python2"
  },
  "language_info": {
   "codemirror_mode": {
    "name": "ipython",
    "version": 2
   },
   "file_extension": ".py",
   "mimetype": "text/x-python",
   "name": "python",
   "nbconvert_exporter": "python",
   "pygments_lexer": "ipython2",
   "version": "2.7.9"
  }
 },
 "nbformat": 4,
 "nbformat_minor": 0
}
