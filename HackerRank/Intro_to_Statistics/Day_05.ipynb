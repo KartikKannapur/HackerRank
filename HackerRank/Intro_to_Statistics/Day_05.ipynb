{
 "cells": [
  {
   "cell_type": "markdown",
   "metadata": {},
   "source": [
    "# Day 5: Introduction to Correlation"
   ]
  },
  {
   "cell_type": "markdown",
   "metadata": {},
   "source": [
    "### Objective \n",
    "In this challenge, we practice calculating correlation. Check out the Resources tab to learn more!\n",
    "\n",
    "### Task \n",
    "You are provided the popularity scores for a set of juices (the higher, the better):\n",
    "[10, 9.8, 8, 7.8, 7.7, 7, 6, 5, 4, 2]  \n",
    "\n",
    "These are the respective prices for the juices:\n",
    "[200, 44, 32, 24, 22, 17, 15, 12, 8, 4]\n",
    "\n",
    "\n",
    "Write a program computing (or calculate manually) the Pearson coefficient and the Spearman Rank coefficient of correlation between these values."
   ]
  },
  {
   "cell_type": "code",
   "execution_count": 5,
   "metadata": {
    "collapsed": true
   },
   "outputs": [],
   "source": [
    "# #Python Import Libraries\n",
    "import scipy\n",
    "from scipy import stats\n",
    "\n",
    "# #Data\n",
    "arr_popularity = [10, 9.8, 8, 7.8, 7.7, 7, 6, 5, 4, 2]\n",
    "arr_price = [200, 44, 32, 24, 22, 17, 15, 12, 8, 4]"
   ]
  },
  {
   "cell_type": "code",
   "execution_count": 8,
   "metadata": {
    "collapsed": false
   },
   "outputs": [
    {
     "data": {
      "text/plain": [
       "(0.61247219372084816, 0.05978461460708815)"
      ]
     },
     "execution_count": 8,
     "metadata": {},
     "output_type": "execute_result"
    }
   ],
   "source": [
    "scipy.stats.pearsonr(arr_popularity, arr_price)\n"
   ]
  },
  {
   "cell_type": "code",
   "execution_count": 9,
   "metadata": {
    "collapsed": false
   },
   "outputs": [
    {
     "data": {
      "text/plain": [
       "(1.0, 0.0)"
      ]
     },
     "execution_count": 9,
     "metadata": {},
     "output_type": "execute_result"
    }
   ],
   "source": [
    "scipy.stats.spearmanr(arr_popularity, arr_price)"
   ]
  },
  {
   "cell_type": "markdown",
   "metadata": {},
   "source": [
    "#  "
   ]
  },
  {
   "cell_type": "markdown",
   "metadata": {},
   "source": [
    "# Day 5: Introduction to Linear Regression"
   ]
  },
  {
   "cell_type": "markdown",
   "metadata": {},
   "source": [
    "### Objective \n",
    "In this challenge, we practice using linear regression techniques. Check out the Resources tab to learn more!\n",
    "\n",
    "## Task \n",
    "You are given the Math aptitude test (x) scores for a set of students, as well as their respective scores for a Statistics course (y). The students enrolled in Statistics immediately after taking the math aptitude test.\n",
    "\n",
    "The scores (x, y) for each student are:\n",
    "\n",
    "(95,85)\n",
    "\n",
    "(85,95)\n",
    "\n",
    "(80,70)\n",
    "\n",
    "(70,65)\n",
    "\n",
    "(60,70)\n",
    "\n",
    "If a student scored an 80 on the Math aptitude test, what score would we expect her to achieve in Statistics? \n",
    "\n",
    "Determine the equation of the best-fit line using the least squares method, and then compute the value of y when x=80."
   ]
  },
  {
   "cell_type": "code",
   "execution_count": 60,
   "metadata": {
    "collapsed": true
   },
   "outputs": [],
   "source": [
    "# #Python Import Libraries\n",
    "import sklearn\n",
    "import numpy as np"
   ]
  },
  {
   "cell_type": "code",
   "execution_count": 54,
   "metadata": {
    "collapsed": true
   },
   "outputs": [],
   "source": [
    "arr_x = [i[0] for i in arr_data]\n",
    "arr_y = [i[1] for i in arr_data]"
   ]
  },
  {
   "cell_type": "code",
   "execution_count": 57,
   "metadata": {
    "collapsed": false
   },
   "outputs": [
    {
     "data": {
      "text/plain": [
       "(0.64383561643835618,\n",
       " 26.780821917808218,\n",
       " 0.69305252981930043,\n",
       " 0.19446749009400915,\n",
       " 0.38664772840212874)"
      ]
     },
     "execution_count": 57,
     "metadata": {},
     "output_type": "execute_result"
    }
   ],
   "source": [
    "stats.linregress(arr_x, arr_y)"
   ]
  },
  {
   "cell_type": "code",
   "execution_count": 58,
   "metadata": {
    "collapsed": true
   },
   "outputs": [],
   "source": [
    "m, c, r_val, p_val, err = stats.linregress(arr_x, arr_y)"
   ]
  },
  {
   "cell_type": "code",
   "execution_count": 61,
   "metadata": {
    "collapsed": false
   },
   "outputs": [
    {
     "data": {
      "text/plain": [
       "78.287671232876704"
      ]
     },
     "execution_count": 61,
     "metadata": {},
     "output_type": "execute_result"
    }
   ],
   "source": [
    "# #y = mx + c\n",
    "m*80 + c"
   ]
  },
  {
   "cell_type": "markdown",
   "metadata": {},
   "source": [
    "Answer : 78.3"
   ]
  },
  {
   "cell_type": "code",
   "execution_count": null,
   "metadata": {
    "collapsed": true
   },
   "outputs": [],
   "source": []
  }
 ],
 "metadata": {
  "kernelspec": {
   "display_name": "Python 2",
   "language": "python",
   "name": "python2"
  },
  "language_info": {
   "codemirror_mode": {
    "name": "ipython",
    "version": 2
   },
   "file_extension": ".py",
   "mimetype": "text/x-python",
   "name": "python",
   "nbconvert_exporter": "python",
   "pygments_lexer": "ipython2",
   "version": "2.7.9"
  }
 },
 "nbformat": 4,
 "nbformat_minor": 0
}
