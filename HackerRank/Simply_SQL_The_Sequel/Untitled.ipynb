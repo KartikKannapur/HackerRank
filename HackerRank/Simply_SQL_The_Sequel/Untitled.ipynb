{
 "cells": [
  {
   "cell_type": "markdown",
   "metadata": {},
   "source": [
    "# Simply SQL - The Sequel  "
   ]
  },
  {
   "cell_type": "markdown",
   "metadata": {},
   "source": [
    "## Q1 : Employee Names"
   ]
  },
  {
   "cell_type": "markdown",
   "metadata": {},
   "source": [
    "#### Ans \n",
    "\n",
    "SELECT name from employee\n",
    "\n",
    "ORDER BY name;"
   ]
  },
  {
   "cell_type": "markdown",
   "metadata": {},
   "source": [
    "## Q2 : Employee Salaries"
   ]
  },
  {
   "cell_type": "markdown",
   "metadata": {},
   "source": [
    "#### Ans\n",
    "\n",
    "SELECT name FROM employee\n",
    "\n",
    "WHERE salary > 2000 AND months < 10\n",
    "\n",
    "ORDER BY employee_id;"
   ]
  },
  {
   "cell_type": "markdown",
   "metadata": {},
   "source": [
    "## Q3 : Top Earners"
   ]
  },
  {
   "cell_type": "markdown",
   "metadata": {},
   "source": [
    "#### Ans\n",
    "\n",
    "SELECT (salary*months) AS total_earnings, COUNT(*) FROM employee\n",
    "\n",
    "GROUP BY total_earnings\n",
    "\n",
    "ORDER BY total_earnings DESC\n",
    "\n",
    "LIMIT 1;"
   ]
  },
  {
   "cell_type": "markdown",
   "metadata": {},
   "source": [
    "## Q4 : New Companies"
   ]
  },
  {
   "cell_type": "markdown",
   "metadata": {},
   "source": [
    "#### Ans\n",
    "\n",
    "SELECT C.company_code, C.founder, \n",
    "\n",
    "COUNT(DISTINCT E.lead_manager_code), COUNT(DISTINCT E.senior_manager_code), COUNT(DISTINCT E.manager_code), COUNT(DISTINCT E.employee_code)\n",
    "\n",
    "FROM company AS C\n",
    "\n",
    "JOIN employee AS E\n",
    "\n",
    "ON C.company_code = E.company_code\n",
    "\n",
    "GROUP BY C.company_code, C.founder;"
   ]
  },
  {
   "cell_type": "markdown",
   "metadata": {},
   "source": [
    "## Q5: Top Competitors*"
   ]
  },
  {
   "cell_type": "markdown",
   "metadata": {},
   "source": [
    "#### Ans\n",
    "\n",
    "\n",
    "SELECT H.hacker_id, H.name FROM challenges AS C\n",
    "\n",
    "JOIN difficulty AS D ON C.difficulty_level = D.difficulty_level\n",
    "\n",
    "JOIN submissions AS S ON C.hacker_id = S.hacker_id\n",
    "\n",
    "JOIN hackers AS H ON C.hacker_id = H.hacker_id\n",
    "\n",
    "WHERE (D.score = S.score)\n",
    "\n",
    "GROUP BY C.hacker_id\n",
    "\n",
    "HAVING COUNT(*) > 1\n",
    "\n",
    "ORDER BY COUNT(*) DESC, C.hacker_id;"
   ]
  },
  {
   "cell_type": "markdown",
   "metadata": {},
   "source": [
    "## Q6 : Ollivander's Inventory*"
   ]
  },
  {
   "cell_type": "markdown",
   "metadata": {},
   "source": [
    "#### Ans\n",
    "\n",
    "SELECT W.id, WP.age, MIN(W.coins_needed), W.power FROM wands AS W JOIN wands_property AS WP\n",
    "\n",
    "ON W.code = WP.code\n",
    "\n",
    "WHERE WP.is_evil = 0\n",
    "\n",
    "GROUP BY WP.age, W.power\n",
    "\n",
    "ORDER BY W.power DESC, WP.age DESC;"
   ]
  },
  {
   "cell_type": "code",
   "execution_count": null,
   "metadata": {
    "collapsed": true
   },
   "outputs": [],
   "source": []
  }
 ],
 "metadata": {
  "kernelspec": {
   "display_name": "Python 2",
   "language": "python",
   "name": "python2"
  },
  "language_info": {
   "codemirror_mode": {
    "name": "ipython",
    "version": 2
   },
   "file_extension": ".py",
   "mimetype": "text/x-python",
   "name": "python",
   "nbconvert_exporter": "python",
   "pygments_lexer": "ipython2",
   "version": "2.7.9"
  }
 },
 "nbformat": 4,
 "nbformat_minor": 0
}
